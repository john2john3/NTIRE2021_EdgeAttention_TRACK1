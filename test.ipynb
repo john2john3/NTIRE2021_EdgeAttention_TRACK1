{
 "cells": [
  {
   "cell_type": "code",
   "execution_count": null,
   "id": "middle-label",
   "metadata": {},
   "outputs": [],
   "source": [
    "import tensorflow as tf\n",
    "\n",
    "import os\n",
    "import math\n",
    "import numpy as np\n",
    "\n",
    "from tensorflow import keras\n",
    "from tensorflow.keras import layers\n",
    "from tensorflow.keras.preprocessing.image import load_img\n",
    "from tensorflow.keras.preprocessing.image import array_to_img\n",
    "from tensorflow.keras.preprocessing.image import img_to_array\n",
    "from tensorflow.keras.preprocessing import image_dataset_from_directory\n",
    "from tqdm import tqdm"
   ]
  },
  {
   "cell_type": "code",
   "execution_count": null,
   "id": "aware-dancing",
   "metadata": {},
   "outputs": [],
   "source": [
    "from tensorflow.keras.utils import Sequence\n",
    "\n",
    "test_blur_dir = \"./test_blur_bicubic/test/test_blur_bicubic/X4/\"\n",
    "test_blur = []\n",
    "for folder in tqdm(range(0,30)):\n",
    "    if folder<=9:\n",
    "        temp = test_blur_dir +(\"00\"+str(folder)+\"/\")\n",
    "    elif folder <=99:\n",
    "        temp = test_blur_dir +(\"0\"+str(folder)+\"/\")\n",
    "    else:\n",
    "        temp = test_blur_dir +(str(folder)+\"/\")\n",
    "    for file in range(0,100):\n",
    "        \n",
    "        if file <=9:\n",
    "            temp_2 = temp + str(\"0000000\")+str(file)+\".png\"\n",
    "                \n",
    "        else:\n",
    "            temp_2 = temp + str(\"000000\")+str(file)+\".png\"\n",
    "            \n",
    "        test_blur.append(temp_2)\n"
   ]
  },
  {
   "cell_type": "code",
   "execution_count": null,
   "id": "smart-windsor",
   "metadata": {},
   "outputs": [],
   "source": [
    "import imageio\n",
    "from skimage.metrics import peak_signal_noise_ratio, structural_similarity\n",
    "model = keras.models.load_model(\"./trained_model.hdf5\")\n",
    "for i in tqdm(range(len(test_blur))):\n",
    "        temp = load_img(test_blur[i])\n",
    "        temp = img_to_array(temp)\n",
    "        temp = np.reshape(temp,(1,180,320,3))\n",
    "        temp = temp/255.0\n",
    "        temp = model(temp)\n",
    "        temp = temp*255.0\n",
    "        temp = tf.round(temp)\n",
    "        temp = tf.clip_by_value(temp,0,255)\n",
    "        temp = tf.cast(temp, tf.uint8)\n",
    "        \n",
    "        temp = np.reshape(temp,(180*4,320*4,3))\n",
    "        \n",
    "        image = tf.io.encode_png(temp)\n",
    "        \n",
    "        name = val_blur[i][-16:].replace('/','_')\n",
    "        tf.io.write_file('./test/{}'.format(name),image)"
   ]
  }
 ],
 "metadata": {
  "kernelspec": {
   "display_name": "han",
   "language": "python",
   "name": "han"
  },
  "language_info": {
   "codemirror_mode": {
    "name": "ipython",
    "version": 3
   },
   "file_extension": ".py",
   "mimetype": "text/x-python",
   "name": "python",
   "nbconvert_exporter": "python",
   "pygments_lexer": "ipython3",
   "version": "3.8.5"
  }
 },
 "nbformat": 4,
 "nbformat_minor": 5
}
